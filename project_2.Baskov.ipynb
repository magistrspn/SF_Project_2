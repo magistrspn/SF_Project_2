{
 "cells": [
  {
   "cell_type": "markdown",
   "metadata": {},
   "source": [
    "## Project 2\n",
    "#### В данном проекте мы проверяем несколько гипотез касаемо закономерностей процесса прохождения игры для пользователей различных групп:\n",
    "##### По идее, должна быть разница в поведении групп, которые проходят и не проходят обучение. Но так ли это? Влияет ли обучение на скорость прохождения других этапов игры?\n",
    "##### Кажется, повторное прохождение обучения положительно влияет на оплату, верно?\n",
    "##### Если пользователь сначала выбирает сложность обучения, будет ли он потом проходить обучение?"
   ]
  },
  {
   "cell_type": "markdown",
   "metadata": {},
   "source": [
    "### Проверяемые гипотезы:\n",
    "1. Отличается ли время прохождения различных этапов для пользователей, которые прошли обучение, от пользователей, не начинавших обучение?\n",
    "2. Существует ли зависимость между вероятностью оплаты вопросов и количеством обучений, которые начинал или завершал пользователь?\n",
    "3. Как часто пользователи начинают обучение после того, как они выбрали уровень сложности? (Насколько прозрачен процесс взаимодействия с игрой?)"
   ]
  },
  {
   "cell_type": "markdown",
   "metadata": {},
   "source": [
    "#### Подготовка данных:"
   ]
  },
  {
   "cell_type": "markdown",
   "metadata": {},
   "source": [
    "Загружаем данные:"
   ]
  },
  {
   "cell_type": "code",
   "execution_count": 1,
   "metadata": {},
   "outputs": [],
   "source": [
    "import pandas as pd\n",
    "import matplotlib.pyplot as plt\n",
    "import seaborn as sns\n",
    "import matplotlib.gridspec as gridspec\n",
    "%matplotlib inline\n",
    "events_df = pd.read_csv('7_4_Events.csv')\n",
    "purchase_df = pd.read_csv('purchase.csv')"
   ]
  },
  {
   "cell_type": "markdown",
   "metadata": {},
   "source": [
    "Создаем фильтр по времени регистрации пользователей (только 2018 г.):"
   ]
  },
  {
   "cell_type": "code",
   "execution_count": 2,
   "metadata": {},
   "outputs": [],
   "source": [
    "cond = (events_df.event_type == 'registration')&(events_df.start_time>='2018-01-01')&(events_df.start_time<'2019-01-01')"
   ]
  },
  {
   "cell_type": "markdown",
   "metadata": {},
   "source": [
    "Фильтруем events_df по фильтру пользователей 2018 г.:"
   ]
  },
  {
   "cell_type": "code",
   "execution_count": 3,
   "metadata": {},
   "outputs": [],
   "source": [
    "registered = events_df[cond].user_id.to_list()\n",
    "events = events_df[events_df.user_id.isin(registered)]"
   ]
  },
  {
   "cell_type": "markdown",
   "metadata": {},
   "source": [
    "Соединяем events_df и purchase_df:"
   ]
  },
  {
   "cell_type": "code",
   "execution_count": 4,
   "metadata": {},
   "outputs": [],
   "source": [
    "purchase_df['event_type'] = 'purchase'\n",
    "events_df = events_df.rename(columns={'id': 'event_id'})\n",
    "purchase_df = purchase_df.rename(columns={'id': 'purchase_id'})\n",
    "events_dfs = pd.concat([events_df, purchase_df], sort  = False)"
   ]
  },
  {
   "cell_type": "markdown",
   "metadata": {},
   "source": [
    "Сортируем events_df по хронологии событий и приводим столбцы с отметками времени к временному формату:"
   ]
  },
  {
   "cell_type": "code",
   "execution_count": 5,
   "metadata": {},
   "outputs": [],
   "source": [
    "total_events_df = events_dfs[events_dfs['user_id'].isin(registered)]\n",
    "total_events_df = total_events_df.reset_index(drop = True).sort_values('start_time')\n",
    "total_events_df.start_time = pd.to_datetime(total_events_df.start_time, format = '%Y-%m-%dT%H:%M:%S') #Приводим время событий к временному формату\n",
    "total_events_df.event_datetime = pd.to_datetime(total_events_df.event_datetime, format = '%Y-%m-%dT%H:%M:%S')"
   ]
  },
  {
   "cell_type": "markdown",
   "metadata": {},
   "source": [
    "### Гипотеза 1: Отличается ли время прохождения различных этапов для пользователей, которые прошли обучение, от пользователей, не начинавших обучение?"
   ]
  },
  {
   "cell_type": "markdown",
   "metadata": {},
   "source": [
    "Выделяем время прохождения различных этапов среди всех пользователей. Не берем в расчет периоды времени обучения, так как наша задача заключается в сравнении времени прохождения различных этапов среди тех, кто прошел обучение и тех, кто не прошел обучение, а это значит, что сравнивать время внутри обучения бессмысленно:"
   ]
  },
  {
   "cell_type": "code",
   "execution_count": 6,
   "metadata": {},
   "outputs": [],
   "source": [
    "registration_time = total_events_df[total_events_df['event_type']=='registration'][['user_id', 'start_time']].rename(columns = {'start_time':'registration_time'})\n",
    "tutorial_time = total_events_df[total_events_df['event_type']=='tutorial_start'][['user_id', 'start_time']].rename(columns = {'start_time':'tutorial_start_time'})\n",
    "tutorial_time_wo_duplicates = tutorial_time.drop_duplicates('user_id')\n",
    "level_choice_time = total_events_df[total_events_df['event_type']=='level_choice'][['user_id', 'start_time']].rename(columns = {'start_time':'level_choice_time'})\n",
    "pack_choice_time = total_events_df[total_events_df['event_type']=='pack_choice'][['user_id', 'start_time']].rename(columns = {'start_time':'pack_choice_time'})\n",
    "purchase_time = total_events_df[total_events_df['event_type']=='purchase'][['user_id', 'event_datetime']].rename(columns = {'event_datetime':'purchase_time'})\n",
    "\n",
    "tutorial_delta = registration_time.merge(tutorial_time_wo_duplicates, on='user_id', how='inner')\n",
    "level_choice_after_tutorial_delta = tutorial_time_wo_duplicates.merge(level_choice_time, on='user_id', how='inner')\n",
    "level_choice_delta = registration_time.merge(level_choice_time, on='user_id', how='inner')\n",
    "pack_choice_delta = level_choice_time.merge(pack_choice_time, on='user_id', how='inner')\n",
    "purchase_delta = pack_choice_time.merge(purchase_time, on='user_id', how='inner')\n",
    "purchase_reg_delta = registration_time.merge(purchase_time, on='user_id', how='inner')\n",
    "\n",
    "tutorial_delta['tutorial_delta'] = tutorial_delta['tutorial_start_time'] - tutorial_delta['registration_time']\n",
    "level_choice_after_tutorial_delta['level_choice_at_delta'] = level_choice_after_tutorial_delta['level_choice_time'] - level_choice_after_tutorial_delta['tutorial_start_time']\n",
    "level_choice_delta['level_choice_delta'] = level_choice_delta['level_choice_time'] - level_choice_delta['registration_time']\n",
    "pack_choice_delta['pack_choice_delta'] = pack_choice_delta['pack_choice_time'] - pack_choice_delta['level_choice_time']\n",
    "purchase_delta['purchase_delta'] = purchase_delta['purchase_time'] - purchase_delta['pack_choice_time']\n",
    "purchase_reg_delta['purchase_reg_delta'] = purchase_reg_delta['purchase_time'] - purchase_reg_delta['registration_time']"
   ]
  },
  {
   "cell_type": "markdown",
   "metadata": {},
   "source": [
    "Соединяем все датафреймы в единый:"
   ]
  },
  {
   "cell_type": "code",
   "execution_count": 7,
   "metadata": {},
   "outputs": [],
   "source": [
    "all_delta = registration_time[['user_id', 'registration_time']].merge(tutorial_delta[['user_id', 'tutorial_delta']], on='user_id', how='left')\n",
    "all_delta = all_delta.merge(level_choice_delta[['user_id', 'level_choice_delta']], on='user_id', how='left')\n",
    "all_delta = all_delta.merge(pack_choice_delta[['user_id', 'pack_choice_delta']], on='user_id', how='left')\n",
    "all_delta = all_delta.merge(purchase_delta[['user_id', 'purchase_delta']], on='user_id', how='left')\n",
    "all_delta = all_delta.merge(purchase_reg_delta[['user_id', 'purchase_reg_delta']], on='user_id', how='left')"
   ]
  },
  {
   "cell_type": "markdown",
   "metadata": {},
   "source": [
    "Выделяем 2 датафрейма с пользователями, прошедшими обучения и пользователями, не начинавшими обучение:"
   ]
  },
  {
   "cell_type": "code",
   "execution_count": 8,
   "metadata": {},
   "outputs": [],
   "source": [
    "users_with_tutorial_finished = total_events_df[total_events_df['event_type']=='tutorial_finish']['user_id']\n",
    "uwtf = all_delta[all_delta['user_id'].isin(users_with_tutorial_finished)]\n",
    "\n",
    "users_with_tutorial_start = total_events_df[total_events_df['event_type']=='tutorial_start']['user_id']\n",
    "all_users = total_events_df['user_id'].unique()\n",
    "users_without_tutorial = set(all_users).difference(set(users_with_tutorial_start))\n",
    "uwot = all_delta[all_delta['user_id'].isin(users_without_tutorial)]"
   ]
  },
  {
   "cell_type": "markdown",
   "metadata": {},
   "source": [
    "Cчитаем среди прошедших обучение пользователей среднее время прохождения различных этапов:"
   ]
  },
  {
   "cell_type": "code",
   "execution_count": 9,
   "metadata": {},
   "outputs": [
    {
     "name": "stdout",
     "output_type": "stream",
     "text": [
      "Среднее время прохождения различных этапов среди пользователей, прошедших обучение:\n",
      "От регистрации до выбора уровня сложности:0 days 07:05:36.854819;\n",
      "От выбора уровня сложности до выбора пакета вопросов:0 days 00:05:18.146058;\n",
      "От выбора пакета вопросов до первой оплаты:3 days 17:17:59.641326;\n",
      "От регистрации до первой оплаты: 4 days 00:30:03.247408\n"
     ]
    }
   ],
   "source": [
    "print('''Среднее время прохождения различных этапов среди пользователей, прошедших обучение:\n",
    "От регистрации до выбора уровня сложности:{};\n",
    "От выбора уровня сложности до выбора пакета вопросов:{};\n",
    "От выбора пакета вопросов до первой оплаты:{};\n",
    "От регистрации до первой оплаты: {}'''\\\n",
    "      .format(uwtf['level_choice_delta'].mean(), uwtf['pack_choice_delta'].mean(),\\\n",
    "              uwtf['purchase_delta'].mean(), uwtf['purchase_reg_delta'].mean()))"
   ]
  },
  {
   "cell_type": "code",
   "execution_count": 10,
   "metadata": {},
   "outputs": [
    {
     "data": {
      "text/plain": [
       "Timedelta('0 days 01:50:03.732370')"
      ]
     },
     "execution_count": 10,
     "metadata": {},
     "output_type": "execute_result"
    }
   ],
   "source": [
    "uwtf['level_choice_delta'].mean() - uwot['level_choice_delta'].mean() "
   ]
  },
  {
   "cell_type": "markdown",
   "metadata": {},
   "source": [
    "Cчитаем среди НЕ прошедших обучение пользователей среднее время прохождения различных этапов:"
   ]
  },
  {
   "cell_type": "code",
   "execution_count": 11,
   "metadata": {},
   "outputs": [
    {
     "name": "stdout",
     "output_type": "stream",
     "text": [
      "Среднее время прохождения различных этапов среди пользователей, НЕ прошедших обучение:\n",
      "От регистрации до выбора уровня сложности:0 days 05:15:33.122448;\n",
      "От выбора уровня сложности до выбора пакета вопросов:0 days 00:05:23.824324;\n",
      "От выбора пакета вопросов до первой оплаты:4 days 04:49:33.590909;\n",
      "От регистрации до первой оплаты: 4 days 09:06:01.909090\n"
     ]
    }
   ],
   "source": [
    "print('''Среднее время прохождения различных этапов среди пользователей, НЕ прошедших обучение:\n",
    "От регистрации до выбора уровня сложности:{};\n",
    "От выбора уровня сложности до выбора пакета вопросов:{};\n",
    "От выбора пакета вопросов до первой оплаты:{};\n",
    "От регистрации до первой оплаты: {}'''\\\n",
    "      .format(uwot['level_choice_delta'].mean(), uwot['pack_choice_delta'].mean(),\\\n",
    "              uwot['purchase_delta'].mean(), uwot['purchase_reg_delta'].mean()))"
   ]
  },
  {
   "cell_type": "markdown",
   "metadata": {},
   "source": [
    "Далее берем средние значение по каждому этапу для пользователей, прошедших обучение и не начинавших обучение, создаем новый столбец с отметкой о прохождении обучения и соединяем в единый датафрейм:"
   ]
  },
  {
   "cell_type": "code",
   "execution_count": 12,
   "metadata": {},
   "outputs": [
    {
     "name": "stderr",
     "output_type": "stream",
     "text": [
      "<ipython-input-12-84232af4a0b2>:3: SettingWithCopyWarning: \n",
      "A value is trying to be set on a copy of a slice from a DataFrame.\n",
      "Try using .loc[row_indexer,col_indexer] = value instead\n",
      "\n",
      "See the caveats in the documentation: https://pandas.pydata.org/pandas-docs/stable/user_guide/indexing.html#returning-a-view-versus-a-copy\n",
      "  uwtf['user_type'] = 'with_finished_training'\n",
      "<ipython-input-12-84232af4a0b2>:4: SettingWithCopyWarning: \n",
      "A value is trying to be set on a copy of a slice from a DataFrame.\n",
      "Try using .loc[row_indexer,col_indexer] = value instead\n",
      "\n",
      "See the caveats in the documentation: https://pandas.pydata.org/pandas-docs/stable/user_guide/indexing.html#returning-a-view-versus-a-copy\n",
      "  uwot['user_type'] = 'without_training'\n"
     ]
    }
   ],
   "source": [
    "uwtf_mean = uwtf.mean()\n",
    "uwot_mean = uwot.mean()\n",
    "uwtf['user_type'] = 'with_finished_training'\n",
    "uwot['user_type'] = 'without_training'\n",
    "uw = uwtf.append(uwot)"
   ]
  },
  {
   "cell_type": "markdown",
   "metadata": {},
   "source": [
    "Переводим столбцы со временем выполнения каждого этапа в числовой тип (int) для возможности построения графиков:"
   ]
  },
  {
   "cell_type": "code",
   "execution_count": 13,
   "metadata": {},
   "outputs": [],
   "source": [
    "uw.tutorial_delta = pd.to_timedelta(uw.tutorial_delta)/pd.to_timedelta('1 hour')\n",
    "uw.level_choice_delta = pd.to_timedelta(uw.level_choice_delta)/pd.to_timedelta('1 hour')\n",
    "uw.pack_choice_delta = pd.to_timedelta(uw.pack_choice_delta)/pd.to_timedelta('1 hour')\n",
    "uw.purchase_delta = pd.to_timedelta(uw.purchase_delta)/pd.to_timedelta('1 hour')\n",
    "uw.purchase_reg_delta = pd.to_timedelta(uw.purchase_reg_delta)/pd.to_timedelta('1 hour')"
   ]
  },
  {
   "cell_type": "markdown",
   "metadata": {},
   "source": [
    "Строим графики о прохождении каждого этапа среди пользователей, прошедших обучение и не начинавших обучение:"
   ]
  },
  {
   "cell_type": "code",
   "execution_count": 14,
   "metadata": {},
   "outputs": [
    {
     "data": {
      "image/png": "[encoded data removed]",
      "text/plain": [
       "<Figure size 864x720 with 4 Axes>"
      ]
     },
     "metadata": {
      "needs_background": "light"
     },
     "output_type": "display_data"
    }
   ],
   "source": [
    "fig = plt.figure(figsize=(12, 10), constrained_layout=True)\n",
    "gs = gridspec.GridSpec(ncols=2, nrows=2, figure=fig)\n",
    "ax1 = fig.add_subplot(gs[0, 0])\n",
    "ax2 = fig.add_subplot(gs[0, 1])\n",
    "ax3 = fig.add_subplot(gs[1, 0])\n",
    "ax4 = fig.add_subplot(gs[1, 1])\n",
    "abar = sns.barplot(x='user_type', y='level_choice_delta', data=uw, ax=ax1)\n",
    "bbar= sns.barplot(x='user_type', y='pack_choice_delta', data=uw, ax=ax2)\n",
    "cbar = sns.barplot(x='user_type', y='purchase_delta', data=uw, ax=ax3)\n",
    "dbar = sns.barplot(x='user_type', y='purchase_reg_delta', data=uw, ax=ax4)\n",
    "abar.set(title='''Время выбора уровня сложности\n",
    "среди прошедших обучение и не начинавших обучение''', xlabel='Прохождение обучения', ylabel='Время (int, часов)')\n",
    "bbar.set(title='''Время выбора пакета вопросов\n",
    "среди прошедших обучение и не начинавших обучение''', xlabel='Прохождение обучения', ylabel='Время (int, часов)')\n",
    "cbar.set(title='''Время до первой оплаты с момента выбора бесплатного пакета вопросов\n",
    "среди прошедших обучение и не начинавших обучение''', xlabel='Прохождение обучения', ylabel='Время (int, часов)')\n",
    "dbar.set(title='''Время до первой оплаты с момента регистрации\n",
    "среди прошедших обучение и не начинавших обучение''', xlabel='Прохождение обучения', ylabel='Время (int, часов)')\n",
    "plt.show()"
   ]
  },
  {
   "cell_type": "markdown",
   "metadata": {},
   "source": [
    "- Как мы видим, прохождение обучения в игре влияет на время до первой покупки: пользователи, прошедшие обучение, быстрее совершают первую покупку как с момента выбора бесплатного пакета вопросов (в среднем на 11:31:33 быстрее), так и с момента регистрации (в среднем на 08:35:58 быстрее), чем пользователи, не проходившие обучение. Однако, пользователи, не проходившие обучение, значительно быстрее доходят до выбора сложности (в среднем на 01:50:03 быстрее). И это понятно - если пользователь только зарегистрировался и хочет начать пользоваться приложением, но не хочет тратить время на обучение, то он сразу выполнит первый обязательный этап - выбор уровня сложности, в то время, как пользователи, прошедшие обучение, уже провели какое-то время в игре и, возможно, им нужно передохнуть или выполнить свои другие дела перед тем, как выбрать уровень сложности."
   ]
  },
  {
   "cell_type": "markdown",
   "metadata": {},
   "source": [
    "### Гипотеза 2: Существует ли зависимость между вероятностью оплаты вопросов и количеством обучений, которые начинал или завершал пользователь?"
   ]
  },
  {
   "cell_type": "markdown",
   "metadata": {},
   "source": [
    "Создаем датафрейм с пользователями, начинавшими обучение и подсчитываем количество попыток:"
   ]
  },
  {
   "cell_type": "code",
   "execution_count": 15,
   "metadata": {},
   "outputs": [],
   "source": [
    "users_with_tutorial_start = total_events_df[total_events_df['event_type']=='tutorial_start']\n",
    "attempts_df = users_with_tutorial_start.groupby(['user_id'])[['event_type']].count()\n",
    "attempts_df.columns = ['tutorial_attempts']\n",
    "attempts_df.reset_index(inplace = True)"
   ]
  },
  {
   "cell_type": "markdown",
   "metadata": {},
   "source": [
    "Создаем датафрейм с оплатами (из датафрейма с фильтром по 2018 г.) и соединяем его с датафреймом из предыдущего шага.\n",
    "Далее в получившийся датафрейм добавляем столбец с конверсией оплаты пользователей и строим график:"
   ]
  },
  {
   "cell_type": "code",
   "execution_count": 16,
   "metadata": {},
   "outputs": [
    {
     "data": {
      "text/plain": [
       "[Text(0, 0.5, 'Конверсия (%)'),\n",
       " Text(0.5, 0, 'Количество попыток обучения'),\n",
       " Text(0.5, 1.0, 'Зависимость вероятности оплаты от количества попыток обучения')]"
      ]
     },
     "execution_count": 16,
     "metadata": {},
     "output_type": "execute_result"
    },
    {
     "data": {
      "image/png": "[encoded data removed]",
      "text/plain": [
       "<Figure size 432x288 with 1 Axes>"
      ]
     },
     "metadata": {},
     "output_type": "display_data"
    }
   ],
   "source": [
    "purchased_users_df = total_events_df[total_events_df['event_type']=='purchase'][['user_id', 'purchase_id', 'amount']]\n",
    "attempts_purchases=purchased_users_df.merge(attempts_df, on='user_id', how='right')\n",
    "count_of_tutorial = attempts_purchases.groupby(['tutorial_attempts']).agg({'user_id':'count', 'purchase_id':'count', 'amount':'sum'})\n",
    "count_of_tutorial['conversion'] = 100 * count_of_tutorial['purchase_id'] / count_of_tutorial['user_id']\n",
    "count_of_tutorial = count_of_tutorial.reset_index()\n",
    "sns.set_style('whitegrid')\n",
    "ax = sns.barplot(x='tutorial_attempts', y='conversion', data=count_of_tutorial, color='lightskyblue')\n",
    "ax.set(title='Зависимость вероятности оплаты от количества попыток обучения', xlabel='Количество попыток обучения', ylabel='Конверсия (%)')"
   ]
  },
  {
   "cell_type": "markdown",
   "metadata": {},
   "source": [
    "##### Как видно из графика, конверсия покупок не имеет зависимости от количества попыток обучения (не смотря на планомерное повышение конверсии среди пользователей, которые начинали обучение в диапазонах от 3 до 5 раз и от 6 до 8 раз), из чего мы можем сделать вывод, что наша гипотеза \"Существует ли зависимость между вероятностью оплаты вопросов и количеством обучений, которые начинал пользователь\" не подтвердилась."
   ]
  },
  {
   "cell_type": "markdown",
   "metadata": {},
   "source": [
    "Создаем датафрейм с пользователями, окончившими обучение и подсчитываем количество окончаний:"
   ]
  },
  {
   "cell_type": "code",
   "execution_count": 17,
   "metadata": {},
   "outputs": [],
   "source": [
    "users_with_tutorial_finish = total_events_df[total_events_df['event_type']=='tutorial_finish']\n",
    "count_of_finish_df = users_with_tutorial_finish.groupby(['user_id'])[['event_type']].count()\n",
    "count_of_finish_df.columns = ['count_of_finish']\n",
    "count_of_finish_df.reset_index(inplace = True)"
   ]
  },
  {
   "cell_type": "markdown",
   "metadata": {},
   "source": [
    "Используем датафрейм с оплатами (из датафрейма с фильтром по 2018 г.) и соединяем его с датафреймом из предыдущего шага.\n",
    "Далее в получившийся датафрейм добавляем столбец с конверсией оплаты пользователей:"
   ]
  },
  {
   "cell_type": "code",
   "execution_count": 18,
   "metadata": {},
   "outputs": [
    {
     "data": {
      "text/plain": [
       "[Text(0, 0.5, 'Конверсия (%)'),\n",
       " Text(0.5, 0, 'Количество завершенных обучений'),\n",
       " Text(0.5, 1.0, 'Зависимость вероятности оплаты от количества завершений обучения')]"
      ]
     },
     "execution_count": 18,
     "metadata": {},
     "output_type": "execute_result"
    },
    {
     "data": {
      "image/png": "[encoded data removed]",
      "text/plain": [
       "<Figure size 432x288 with 1 Axes>"
      ]
     },
     "metadata": {},
     "output_type": "display_data"
    }
   ],
   "source": [
    "finish_purchases=purchased_users_df.merge(count_of_finish_df, on='user_id', how='right')\n",
    "count_of_finish = finish_purchases.groupby(['count_of_finish']).agg({'user_id':'count', 'purchase_id':'count', 'amount':'sum'})\n",
    "count_of_finish['conversion'] = 100 * count_of_finish['purchase_id'] / count_of_finish['user_id']\n",
    "count_of_finish = count_of_finish.reset_index()\n",
    "sns.set_style('whitegrid')\n",
    "bx = sns.barplot(x='count_of_finish', y='conversion', data=count_of_finish, color='lightskyblue')\n",
    "bx.set(title='Зависимость вероятности оплаты от количества завершений обучения', xlabel='Количество завершенных обучений', ylabel='Конверсия (%)')"
   ]
  },
  {
   "cell_type": "markdown",
   "metadata": {},
   "source": [
    "##### Как видно из графика, конверсия покупок не имеет зависимости от количества завершений обучения, из чего мы можем сделать вывод, что наша гипотеза \"Существует ли зависимость между вероятностью оплаты вопросов и количеством обучений, которые завершал пользователь\" не подтвердилась."
   ]
  },
  {
   "cell_type": "markdown",
   "metadata": {},
   "source": [
    "### Гипотеза 3: Как часто пользователи начинают обучение после того, как они выбрали уровень сложности?"
   ]
  },
  {
   "cell_type": "markdown",
   "metadata": {},
   "source": [
    "Создаем датафрейм со списком времени начала обучения и выбора уровня сложности пользователей (на основе датафрейма из 1-й гипотезы) и из него создаем отдельный датафрейм с условием, что время начала обучения больше (позже) времени выбора уровня сложности:"
   ]
  },
  {
   "cell_type": "code",
   "execution_count": 19,
   "metadata": {},
   "outputs": [],
   "source": [
    "tutorial_after_level_choice_df = tutorial_time.merge(level_choice_time, on='user_id', how='inner')\n",
    "tutorial_after_level_choice = tutorial_after_level_choice_df[tutorial_after_level_choice_df['tutorial_start_time'] \\\n",
    "                                                             > tutorial_after_level_choice_df['level_choice_time']]"
   ]
  },
  {
   "cell_type": "markdown",
   "metadata": {},
   "source": [
    "Считаем общее количество пользователей и тех, кто начал обучение после выбора уровня сложности: "
   ]
  },
  {
   "cell_type": "code",
   "execution_count": 20,
   "metadata": {},
   "outputs": [
    {
     "name": "stdout",
     "output_type": "stream",
     "text": [
      "Из всех пользователей, выбравших уровень сложности (12686), 2792 начали обучение после выбора уровня сложности, что составляет 22.01%\n"
     ]
    }
   ],
   "source": [
    "a = tutorial_after_level_choice_df['user_id'].count()\n",
    "b = tutorial_after_level_choice['user_id'].count()\n",
    "c = tutorial_after_level_choice['user_id'].count() / tutorial_after_level_choice_df['user_id'].count()\n",
    "print('''Из всех пользователей, выбравших уровень сложности ({}), {} начали обучение после выбора уровня сложности, что составляет {:.2%}'''\\\n",
    "      .format(a, b, c))"
   ]
  },
  {
   "cell_type": "markdown",
   "metadata": {},
   "source": [
    "##### Ответ на нашу гипотезу \"Как часто пользователи начинают обучение после того, как они выбрали уровень сложности? (Насколько прозрачен процесс взаимодействия с игрой?)\" - 22.01% пользователей не понимают процесса взаимодействия с игрой и обращаются к обучению. Это довольно большая часть аудитории и стоит либо что-то изменить во взаимодействии пользователей с игрой, либо сделать хотя-бы часть обучения обязательным этапом."
   ]
  }
 ],
 "metadata": {
  "kernelspec": {
   "display_name": "Python 3",
   "language": "python",
   "name": "python3"
  },
  "language_info": {
   "codemirror_mode": {
    "name": "ipython",
    "version": 3
   },
   "file_extension": ".py",
   "mimetype": "text/x-python",
   "name": "python",
   "nbconvert_exporter": "python",
   "pygments_lexer": "ipython3",
   "version": "3.8.3"
  }
 },
 "nbformat": 4,
 "nbformat_minor": 4
}
